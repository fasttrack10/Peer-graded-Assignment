{
  "metadata": {
    "kernelspec": {
      "name": "python",
      "display_name": "Pyolite",
      "language": "python"
    },
    "language_info": {
      "codemirror_mode": {
        "name": "python",
        "version": 3
      },
      "file_extension": ".py",
      "mimetype": "text/x-python",
      "name": "python",
      "nbconvert_exporter": "python",
      "pygments_lexer": "ipython3",
      "version": "3.8"
    }
  },
  "nbformat_minor": 4,
  "nbformat": 4,
  "cells": [
    {
      "cell_type": "markdown",
      "source": "<center>\n    <img src=\"https://s3-api.us-geo.objectstorage.softlayer.net/cf-courses-data/CognitiveClass/Logos/organization_logo/organization_logo.png\" width=\"300\" alt=\"cognitiveclass.ai logo\"  />\n</center>\n",
      "metadata": {}
    },
    {
      "cell_type": "markdown",
      "source": "My Jupyter Notebook on IBM Watson Studio\n",
      "metadata": {}
    },
    {
      "cell_type": "markdown",
      "source": "KRISHNENDU S B <br>\nData engineer",
      "metadata": {}
    },
    {
      "cell_type": "markdown",
      "source": "<i>I am interested in data science because it challenges me like a puzzle and brings great satisfaction in solving.",
      "metadata": {}
    },
    {
      "cell_type": "markdown",
      "source": "<h3>The following code performs the addition of two numbers                                                                                                             ",
      "metadata": {}
    },
    {
      "cell_type": "code",
      "source": "print(1+2)",
      "metadata": {
        "trusted": true
      },
      "execution_count": 7,
      "outputs": [
        {
          "name": "stdout",
          "text": "3\n",
          "output_type": "stream"
        }
      ]
    },
    {
      "cell_type": "markdown",
      "source": "<h2>Horizontal rule</h2>\nSample text Sample text Sample text <hr>\nSample text Sample text Sample text <hr>\nSample text Sample text Sample text \n\n\n<h2>A Bulleted list</h2>\n\n<ul>\n  <li>Item 1</li>\n  <li>Item 2</li>\n  <li>Item 3</li>\n</ul>  \n\n<h2>A Numbered list</h2>\n\n<ol>\n  <li>Item 1</li>\n  <li>Item 2</li>\n  <li>Item 3</li>\n</ol> \n\n<h2>A Table</h2>\n\n| header | header | header | header |\n| ------ | ------ |------ | ------ |\n| cell | cell | cell | cell |\n| cell | cell | cell | cell |\n\n\n<h2>Hyperlink</h2> \n <a href=\"https://www.coursera.org/\">Coursera Home Page</a>",
      "metadata": {}
    },
    {
      "cell_type": "code",
      "source": "",
      "metadata": {},
      "execution_count": null,
      "outputs": []
    },
    {
      "cell_type": "code",
      "source": "",
      "metadata": {},
      "execution_count": null,
      "outputs": []
    }
  ]
}